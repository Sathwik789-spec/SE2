{
  "nbformat": 4,
  "nbformat_minor": 0,
  "metadata": {
    "colab": {
      "provenance": [],
      "authorship_tag": "ABX9TyNG44Ov/XJaht94nugP9+Ag",
      "include_colab_link": true
    },
    "kernelspec": {
      "name": "python3",
      "display_name": "Python 3"
    },
    "language_info": {
      "name": "python"
    }
  },
  "cells": [
    {
      "cell_type": "markdown",
      "metadata": {
        "id": "view-in-github",
        "colab_type": "text"
      },
      "source": [
        "<a href=\"https://colab.research.google.com/github/Sathwik789-spec/SE2/blob/main/copy_of_untitled5.ipynb\" target=\"_parent\"><img src=\"https://colab.research.google.com/assets/colab-badge.svg\" alt=\"Open In Colab\"/></a>"
      ]
    },
    {
      "cell_type": "code",
      "execution_count": null,
      "metadata": {
        "id": "qCtnZY5DzoJv"
      },
      "outputs": [],
      "source": [
        "def Temperature_modeling(a, b, c, time):\n",
        "  temperature = a * time**2 + b * time + c\n",
        "  return temperature"
      ]
    },
    {
      "cell_type": "markdown",
      "source": [
        "# New Section"
      ],
      "metadata": {
        "id": "gmQjT1OPcdzw"
      }
    },
    {
      "cell_type": "code",
      "source": [
        "a = 1\n",
        "b = 2\n",
        "c = 10\n",
        "time = 5\n"
      ],
      "metadata": {
        "id": "Eh_Bb-Rg1YqK"
      },
      "execution_count": null,
      "outputs": []
    },
    {
      "cell_type": "code",
      "source": [
        "print(\"Hard-coded variables for weather modeling:\")\n",
        "print(\"Temperature for hardcoded coefficients at time {time} hours: {Temperature_modeling(a, b, c, time)}\")"
      ],
      "metadata": {
        "colab": {
          "base_uri": "https://localhost:8080/"
        },
        "id": "hvlAHsJj1bzP",
        "outputId": "fbaa0054-648c-4dc6-947c-8d5e0ceda87a"
      },
      "execution_count": null,
      "outputs": [
        {
          "output_type": "stream",
          "name": "stdout",
          "text": [
            "Hard-coded variables for weather modeling:\n",
            "Temperature for hardcoded coefficients at time {time} hours: {Temperature_modeling(a, b, c, time)}\n"
          ]
        }
      ]
    },
    {
      "cell_type": "code",
      "source": [
        "a = float(input(\"Enter coefficient a: \"))\n",
        "b = float(input(\"Enter coefficient b: \"))\n",
        "c = float(input(\"Enter coefficient c: \"))\n",
        "time = float(input(\"Enter time (in hours): \"))"
      ],
      "metadata": {
        "colab": {
          "base_uri": "https://localhost:8080/"
        },
        "id": "lgb9MEly1fQY",
        "outputId": "545b96c9-d556-4782-bc56-cdef07523170"
      },
      "execution_count": null,
      "outputs": [
        {
          "name": "stdout",
          "output_type": "stream",
          "text": [
            "Enter coefficient a: 1\n",
            "Enter coefficient b: 2\n",
            "Enter coefficient c: 10\n",
            "Enter time (in hours): 5\n"
          ]
        }
      ]
    },
    {
      "cell_type": "code",
      "source": [
        "print(\"Hard-coded variables for weather modeling:\")\n",
        "print(f\"Temperature for hardcoded coefficients at time {time} hours: {Temperature_modeling(a, b, c, time)}\")\n"
      ],
      "metadata": {
        "colab": {
          "base_uri": "https://localhost:8080/"
        },
        "id": "yx4K9J7D1uBQ",
        "outputId": "7c4244d5-b5ac-4d40-8933-ff800e1a7397"
      },
      "execution_count": null,
      "outputs": [
        {
          "output_type": "stream",
          "name": "stdout",
          "text": [
            "Hard-coded variables for weather modeling:\n",
            "Temperature for hardcoded coefficients at time 5.0 hours: 45.0\n"
          ]
        }
      ]
    },
    {
      "cell_type": "code",
      "source": [
        "def read_from_file(/content/input1.txt):\n",
        "    with open(filename, 'r') as file:\n",
        "        lines = file.readlines()\n",
        "        coefficients = [tuple(map(float, line.strip().split(','))) for line in lines]\n",
        "        return coefficients"
      ],
      "metadata": {
        "id": "MO8WebNk10xX"
      },
      "execution_count": null,
      "outputs": []
    },
    {
      "cell_type": "code",
      "source": [
        "coefficients = read_from_file(\"/content/input1.txt\")\n",
        "\n",
        "a, b, c, time = coefficients  # Assuming the file has four values\n",
        "\n",
        "temperature = Temperature_modeling(a, b, c, time)\n",
        "\n",
        "print(\"Read from a file for weather modeling\")\n",
        "print(\"Temperature from keyboard coefficients at time\", time, \"hours:\", temperature)"
      ],
      "metadata": {
        "id": "OuZl8bIo2KZ4"
      },
      "execution_count": null,
      "outputs": []
    }
  ]
}